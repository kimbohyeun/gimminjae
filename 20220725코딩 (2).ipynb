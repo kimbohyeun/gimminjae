{
  "cells": [
    {
      "cell_type": "code",
      "execution_count": null,
      "metadata": {
        "colab": {
          "base_uri": "https://localhost:8080/"
        },
        "id": "VxeCjfLQyYdk",
        "outputId": "f859eae8-9b7b-4cdf-94b0-9891fb187dab"
      },
      "outputs": [
        {
          "name": "stdout",
          "output_type": "stream",
          "text": [
            "[1, 2, 3, 4, 5]\n"
          ]
        }
      ],
      "source": [
        "#추가\n",
        "배열 = [1,2,3,4,5]\n",
        "print(배열)\n",
        "배열.append(6)"
      ]
    },
    {
      "cell_type": "code",
      "execution_count": null,
      "metadata": {
        "colab": {
          "base_uri": "https://localhost:8080/"
        },
        "id": "k783m5j70R5R",
        "outputId": "c7abd5da-06b7-48c5-d143-ce280d1f5cbf"
      },
      "outputs": [
        {
          "name": "stdout",
          "output_type": "stream",
          "text": [
            "[1, 2, 3, 4, 5, 6]\n"
          ]
        }
      ],
      "source": [
        "print(배열)"
      ]
    },
    {
      "cell_type": "code",
      "execution_count": null,
      "metadata": {
        "id": "j1p2-1SF0sHm"
      },
      "outputs": [],
      "source": [
        "배열.append([1,2])"
      ]
    },
    {
      "cell_type": "code",
      "execution_count": null,
      "metadata": {
        "colab": {
          "base_uri": "https://localhost:8080/"
        },
        "id": "FDGCKeHc0xLc",
        "outputId": "d1f227b7-775b-4d7f-a386-09376eb30d2e"
      },
      "outputs": [
        {
          "name": "stdout",
          "output_type": "stream",
          "text": [
            "[1, 2, 3, 4, 5, 6, [1, 2], [1, 2], [1, 2]]\n"
          ]
        }
      ],
      "source": [
        "print(배열)"
      ]
    },
    {
      "cell_type": "code",
      "execution_count": null,
      "metadata": {
        "colab": {
          "base_uri": "https://localhost:8080/"
        },
        "id": "NSxa-r5k0_gr",
        "outputId": "a74a515a-dc8d-48f9-a490-a278de02b0a2"
      },
      "outputs": [
        {
          "data": {
            "text/plain": [
              "['__add__',\n",
              " '__class__',\n",
              " '__contains__',\n",
              " '__delattr__',\n",
              " '__delitem__',\n",
              " '__dir__',\n",
              " '__doc__',\n",
              " '__eq__',\n",
              " '__format__',\n",
              " '__ge__',\n",
              " '__getattribute__',\n",
              " '__getitem__',\n",
              " '__gt__',\n",
              " '__hash__',\n",
              " '__iadd__',\n",
              " '__imul__',\n",
              " '__init__',\n",
              " '__init_subclass__',\n",
              " '__iter__',\n",
              " '__le__',\n",
              " '__len__',\n",
              " '__lt__',\n",
              " '__mul__',\n",
              " '__ne__',\n",
              " '__new__',\n",
              " '__reduce__',\n",
              " '__reduce_ex__',\n",
              " '__repr__',\n",
              " '__reversed__',\n",
              " '__rmul__',\n",
              " '__setattr__',\n",
              " '__setitem__',\n",
              " '__sizeof__',\n",
              " '__str__',\n",
              " '__subclasshook__',\n",
              " 'append',\n",
              " 'clear',\n",
              " 'copy',\n",
              " 'count',\n",
              " 'extend',\n",
              " 'index',\n",
              " 'insert',\n",
              " 'pop',\n",
              " 'remove',\n",
              " 'reverse',\n",
              " 'sort']"
            ]
          },
          "execution_count": 14,
          "metadata": {},
          "output_type": "execute_result"
        }
      ],
      "source": [
        "dir(배열)"
      ]
    },
    {
      "cell_type": "code",
      "execution_count": null,
      "metadata": {
        "id": "C3R-pEWG0SC3"
      },
      "outputs": [],
      "source": [
        "배열2 = [3,10,19,100,1,17]"
      ]
    },
    {
      "cell_type": "code",
      "execution_count": null,
      "metadata": {
        "colab": {
          "base_uri": "https://localhost:8080/"
        },
        "id": "qk_hiMr21yTL",
        "outputId": "2789f56b-e8ba-4bd2-92b7-e8582ab9d4eb"
      },
      "outputs": [
        {
          "name": "stdout",
          "output_type": "stream",
          "text": [
            "[3, 10, 19, 100, 1, 17]\n"
          ]
        }
      ],
      "source": [
        "print(배열2)"
      ]
    },
    {
      "cell_type": "code",
      "execution_count": null,
      "metadata": {
        "id": "6Wad_4JG10Vi"
      },
      "outputs": [],
      "source": [
        "배열2.sort()"
      ]
    },
    {
      "cell_type": "code",
      "execution_count": null,
      "metadata": {
        "colab": {
          "base_uri": "https://localhost:8080/"
        },
        "id": "h1SQSIIi13qR",
        "outputId": "badcb660-2a8c-427a-e0b6-ad0461267f6d"
      },
      "outputs": [
        {
          "name": "stdout",
          "output_type": "stream",
          "text": [
            "[1, 3, 10, 17, 19, 100]\n"
          ]
        }
      ],
      "source": [
        "print(배열2)"
      ]
    },
    {
      "cell_type": "code",
      "execution_count": null,
      "metadata": {
        "id": "DvRz1eVK0SFP"
      },
      "outputs": [],
      "source": [
        "문자열배열=['z','c','d','가','다', '나']"
      ]
    },
    {
      "cell_type": "code",
      "execution_count": null,
      "metadata": {
        "colab": {
          "base_uri": "https://localhost:8080/"
        },
        "id": "atEIaXgd0SH4",
        "outputId": "9ad7fb5e-3cf2-4518-b387-347786f4bd4d"
      },
      "outputs": [
        {
          "name": "stdout",
          "output_type": "stream",
          "text": [
            "['c', 'd', 'z', '가', '나', '다']\n"
          ]
        }
      ],
      "source": [
        "문자열배열.sort()\n",
        "print(문자열배열)"
      ]
    },
    {
      "cell_type": "code",
      "execution_count": null,
      "metadata": {
        "id": "gZIUcJrN0SKI"
      },
      "outputs": [],
      "source": [
        "섞인거 = [1,10,3,'b','c','d']"
      ]
    },
    {
      "cell_type": "code",
      "execution_count": null,
      "metadata": {
        "colab": {
          "base_uri": "https://localhost:8080/"
        },
        "id": "hkYgDEOu2aJe",
        "outputId": "4decdb33-6162-4143-95ec-1b45a1e6ee83"
      },
      "outputs": [
        {
          "name": "stdout",
          "output_type": "stream",
          "text": [
            "[1, 10, 3, 'b', 'c', 'd']\n"
          ]
        }
      ],
      "source": [
        "print(섞인거)"
      ]
    },
    {
      "cell_type": "code",
      "execution_count": null,
      "metadata": {
        "colab": {
          "base_uri": "https://localhost:8080/",
          "height": 176
        },
        "id": "dCPXPCIm0SNX",
        "outputId": "0d8e7d32-9a8f-4c17-f161-5e89d6a19592"
      },
      "outputs": [
        {
          "ename": "TypeError",
          "evalue": "ignored",
          "output_type": "error",
          "traceback": [
            "\u001b[0;31m---------------------------------------------------------------------------\u001b[0m",
            "\u001b[0;31mTypeError\u001b[0m                                 Traceback (most recent call last)",
            "\u001b[0;32m<ipython-input-27-eb1b2fd5f75f>\u001b[0m in \u001b[0;36m<module>\u001b[0;34m()\u001b[0m\n\u001b[0;32m----> 1\u001b[0;31m \u001b[0m섞인거\u001b[0m\u001b[0;34m.\u001b[0m\u001b[0msort\u001b[0m\u001b[0;34m(\u001b[0m\u001b[0;34m)\u001b[0m\u001b[0;31m#문자와 숫자의 비교는 안댐\u001b[0m\u001b[0;34m\u001b[0m\u001b[0;34m\u001b[0m\u001b[0m\n\u001b[0m",
            "\u001b[0;31mTypeError\u001b[0m: '<' not supported between instances of 'str' and 'int'"
          ]
        }
      ],
      "source": [
        "섞인거.sort()#문자와 숫자의 비교는 안댐"
      ]
    },
    {
      "cell_type": "code",
      "execution_count": null,
      "metadata": {
        "colab": {
          "base_uri": "https://localhost:8080/"
        },
        "id": "0Kd4bwKo0SPg",
        "outputId": "caedda33-d4cc-42c8-ffa2-d20ec9c63e2a"
      },
      "outputs": [
        {
          "name": "stdout",
          "output_type": "stream",
          "text": [
            "[5, 3, 1]\n"
          ]
        }
      ],
      "source": [
        "배열3 =[5,3,1]\n",
        "print(배열3)"
      ]
    },
    {
      "cell_type": "code",
      "execution_count": null,
      "metadata": {
        "colab": {
          "base_uri": "https://localhost:8080/"
        },
        "id": "puEpvwhL2_iY",
        "outputId": "db8cbb3b-721a-4818-976d-4c4b11b863e7"
      },
      "outputs": [
        {
          "name": "stdout",
          "output_type": "stream",
          "text": [
            "[1, 3, 5]\n"
          ]
        }
      ],
      "source": [
        "배열3.reverse()\n",
        "print(배열3)"
      ]
    },
    {
      "cell_type": "code",
      "execution_count": null,
      "metadata": {
        "colab": {
          "base_uri": "https://localhost:8080/"
        },
        "id": "UmMIUFdd0SRs",
        "outputId": "283bfda0-1e0c-468e-b34b-bc5650f995b7"
      },
      "outputs": [
        {
          "name": "stdout",
          "output_type": "stream",
          "text": [
            "[1, 3, 10, 'b', 'c', 'd']\n"
          ]
        }
      ],
      "source": [
        "섞인거.reverse()\n",
        "print(섞인거)#얘는 대소비교가 없으니 상관ㅇ벗음"
      ]
    },
    {
      "cell_type": "code",
      "execution_count": null,
      "metadata": {
        "colab": {
          "base_uri": "https://localhost:8080/"
        },
        "id": "7UfsM-mF0STr",
        "outputId": "37e7944c-f157-4b50-c79c-b2aa8b131365"
      },
      "outputs": [
        {
          "name": "stdout",
          "output_type": "stream",
          "text": [
            "[1, 2, [1, 2, 3]]\n"
          ]
        }
      ],
      "source": [
        "배열4 = [1,2,[1,2,3]]\n",
        "print(배열4)"
      ]
    },
    {
      "cell_type": "code",
      "execution_count": null,
      "metadata": {
        "colab": {
          "base_uri": "https://localhost:8080/"
        },
        "id": "jusLh94e3hiO",
        "outputId": "de323c34-3bee-4942-b780-eb345d0a7f81"
      },
      "outputs": [
        {
          "name": "stdout",
          "output_type": "stream",
          "text": [
            "[[1, 2, 3], 2, 1]\n"
          ]
        }
      ],
      "source": [
        "배열4.reverse()\n",
        "print(배열4)"
      ]
    },
    {
      "cell_type": "code",
      "execution_count": null,
      "metadata": {
        "colab": {
          "base_uri": "https://localhost:8080/"
        },
        "id": "S82glX_-0SWB",
        "outputId": "0526fd78-abd9-4b86-867e-9dccecad4754"
      },
      "outputs": [
        {
          "name": "stdout",
          "output_type": "stream",
          "text": [
            "[[3, 2, 1], 2, 1]\n"
          ]
        }
      ],
      "source": [
        "배열4[0].reverse()\n",
        "print(배열4)"
      ]
    },
    {
      "cell_type": "code",
      "execution_count": null,
      "metadata": {
        "colab": {
          "base_uri": "https://localhost:8080/"
        },
        "id": "VwpY6Zt3-6R1",
        "outputId": "e0646de2-425b-4a21-902b-cfb10da12d7b"
      },
      "outputs": [
        {
          "name": "stdout",
          "output_type": "stream",
          "text": [
            "5\n"
          ]
        }
      ],
      "source": [
        "음식=[\"라면\", \"떡볶이\", \"커피\", \"짜장면\",\"파스타\", \"불족발\", \"피자\", \"치킨\"]\n",
        "불족인덱스 = 음식.index(\"불족발\")\n",
        "print(불족인덱스)"
      ]
    },
    {
      "cell_type": "code",
      "execution_count": null,
      "metadata": {
        "id": "6l8XBXb2-6Ve"
      },
      "outputs": [],
      "source": [
        "음식.index(소고기)\n",
        "#배열안에 없는값은 에러가 남"
      ]
    },
    {
      "cell_type": "code",
      "execution_count": null,
      "metadata": {
        "colab": {
          "base_uri": "https://localhost:8080/"
        },
        "id": "pTJYjz_S-6Xd",
        "outputId": "ed2248a2-d157-475e-89f5-a0a2a68a8c66"
      },
      "outputs": [
        {
          "name": "stdout",
          "output_type": "stream",
          "text": [
            "['떡볶이', '커피', '짜장면', '파스타', '불족발']\n"
          ]
        }
      ],
      "source": [
        "print(음식[음식.index(\"떡볶이\"):음식.index(\"불족발\")+1])"
      ]
    },
    {
      "cell_type": "code",
      "execution_count": null,
      "metadata": {
        "colab": {
          "base_uri": "https://localhost:8080/"
        },
        "id": "tDWJNNFu-6Y7",
        "outputId": "77a5ad28-536f-4193-f025-fa0751b70eba"
      },
      "outputs": [
        {
          "name": "stdout",
          "output_type": "stream",
          "text": [
            "['라면', '떡볶이', '커피', '짜장면', '파스타', '소고기', '불족발', '피자', '치킨']\n"
          ]
        }
      ],
      "source": [
        "음식.insert(음식.index(\"불족발\"),\"소고기\")\n",
        "print(음식)"
      ]
    },
    {
      "cell_type": "code",
      "execution_count": null,
      "metadata": {
        "colab": {
          "base_uri": "https://localhost:8080/"
        },
        "id": "TrkU3zILBAJK",
        "outputId": "3627bd30-1cb3-4a26-a158-a21f04e59426"
      },
      "outputs": [
        {
          "name": "stdout",
          "output_type": "stream",
          "text": [
            "['라면', '떡볶이', '커피', '짜장면', '파스타', '소고기', '불족발', '피자']\n"
          ]
        }
      ],
      "source": [
        "음식.pop()\n",
        "print(음식)"
      ]
    },
    {
      "cell_type": "code",
      "execution_count": null,
      "metadata": {
        "colab": {
          "base_uri": "https://localhost:8080/",
          "height": 36
        },
        "id": "DbVlyAB6-6ab",
        "outputId": "6974ae07-6d0d-41e4-c1b6-6e89da126258"
      },
      "outputs": [
        {
          "data": {
            "application/vnd.google.colaboratory.intrinsic+json": {
              "type": "string"
            },
            "text/plain": [
              "'커피'"
            ]
          },
          "execution_count": 51,
          "metadata": {},
          "output_type": "execute_result"
        }
      ],
      "source": [
        "음식.pop(2)"
      ]
    },
    {
      "cell_type": "code",
      "execution_count": null,
      "metadata": {
        "colab": {
          "base_uri": "https://localhost:8080/"
        },
        "id": "tnE8ordsB_yK",
        "outputId": "b83be92a-81ff-4c53-8556-8477aa65dfb5"
      },
      "outputs": [
        {
          "name": "stdout",
          "output_type": "stream",
          "text": [
            "['라면', '떡볶이', '짜장면', '파스타', '소고기', '피자']\n"
          ]
        }
      ],
      "source": [
        "음식.remove(\"불족발\")\n",
        "print(음식)"
      ]
    },
    {
      "cell_type": "code",
      "execution_count": null,
      "metadata": {
        "id": "N3EKPAzg-6pP"
      },
      "outputs": [],
      "source": [
        "음식.pop()"
      ]
    },
    {
      "cell_type": "code",
      "execution_count": null,
      "metadata": {
        "colab": {
          "base_uri": "https://localhost:8080/"
        },
        "id": "SzQOebT_-6sz",
        "outputId": "8ee025c5-53b6-4f8b-e6a9-02e02c1d30a1"
      },
      "outputs": [
        {
          "name": "stdout",
          "output_type": "stream",
          "text": [
            "2\n"
          ]
        }
      ],
      "source": [
        "배열5=[1,1,1,2,3,4,4,\"하이\", \"하이\", 1,2]\n",
        "하이개수=배열5.count(\"하이\")\n",
        "print(하이개수)"
      ]
    },
    {
      "cell_type": "code",
      "execution_count": null,
      "metadata": {
        "colab": {
          "base_uri": "https://localhost:8080/"
        },
        "id": "le8uEibj-6uy",
        "outputId": "3f487a69-23dd-407a-e67e-917c559c3a0a"
      },
      "outputs": [
        {
          "name": "stdout",
          "output_type": "stream",
          "text": [
            "[1, 2, 3, 4, 5, 6]\n",
            "[4, 5, 6] 배열7\n"
          ]
        }
      ],
      "source": [
        "배열6=[1,2,3]\n",
        "배열7=[4,5,6]\n",
        "배열6.extend(배열7)\n",
        "print(배열6, \"배열6\")\n",
        "print(배열7, \"배열7\")"
      ]
    },
    {
      "cell_type": "code",
      "execution_count": null,
      "metadata": {
        "colab": {
          "base_uri": "https://localhost:8080/"
        },
        "id": "cZps-blc-6wY",
        "outputId": "0b3577ba-b8c7-4d94-b5d3-d6e147710349"
      },
      "outputs": [
        {
          "name": "stdout",
          "output_type": "stream",
          "text": [
            "[1, 2, 3] 배열8\n",
            "[1, 2, 3] 배열9\n",
            "[10, 2, 3] 배열8\n",
            "[10, 2, 3] 배열9\n"
          ]
        }
      ],
      "source": [
        "배열8=[1,2,3]\n",
        "배열9=배열8\n",
        "print(배열8, \"배열8\")\n",
        "print(배열9, \"배열9\")\n",
        "배열9[0]=10\n",
        "print(배열8, \"배열8\")\n",
        "print(배열9, \"배열9\")"
      ]
    },
    {
      "cell_type": "code",
      "execution_count": null,
      "metadata": {
        "id": "aXw-Z9Y6-6yV"
      },
      "outputs": [],
      "source": [
        "배열10=[1,2,3,4,5]\n",
        "print(배열10, \"초기화 이전\")\n",
        "배열10.clear()\n",
        "print(배열10, \"초기화 이후\")\n"
      ]
    },
    {
      "cell_type": "code",
      "execution_count": null,
      "metadata": {
        "colab": {
          "base_uri": "https://localhost:8080/"
        },
        "id": "5_HNyZbq-6z7",
        "outputId": "60b5e145-92b0-4d31-dc4c-d363f9862137"
      },
      "outputs": [
        {
          "name": "stdout",
          "output_type": "stream",
          "text": [
            "(1, 2, 3)\n"
          ]
        }
      ],
      "source": [
        "튜플=(1,2,3)\n",
        "print(튜플)"
      ]
    },
    {
      "cell_type": "code",
      "execution_count": null,
      "metadata": {
        "colab": {
          "base_uri": "https://localhost:8080/"
        },
        "id": "86AHz-eO-611",
        "outputId": "aaf42730-0551-4a38-9eef-d79a8bdc8515"
      },
      "outputs": [
        {
          "name": "stdout",
          "output_type": "stream",
          "text": [
            "1\n"
          ]
        }
      ],
      "source": [
        "print(튜플[0])"
      ]
    },
    {
      "cell_type": "code",
      "execution_count": null,
      "metadata": {
        "colab": {
          "base_uri": "https://localhost:8080/",
          "height": 176
        },
        "id": "kJo3Jbp0HLGj",
        "outputId": "6e608f02-e63e-481d-eab1-7e6745bd3b61"
      },
      "outputs": [
        {
          "ename": "TypeError",
          "evalue": "ignored",
          "output_type": "error",
          "traceback": [
            "\u001b[0;31m---------------------------------------------------------------------------\u001b[0m",
            "\u001b[0;31mTypeError\u001b[0m                                 Traceback (most recent call last)",
            "\u001b[0;32m<ipython-input-65-5df9ec316a7a>\u001b[0m in \u001b[0;36m<module>\u001b[0;34m()\u001b[0m\n\u001b[0;32m----> 1\u001b[0;31m \u001b[0m튜플\u001b[0m\u001b[0;34m[\u001b[0m\u001b[0;36m2\u001b[0m\u001b[0;34m]\u001b[0m\u001b[0;34m=\u001b[0m\u001b[0;36m10\u001b[0m\u001b[0;34m\u001b[0m\u001b[0;34m\u001b[0m\u001b[0m\n\u001b[0m",
            "\u001b[0;31mTypeError\u001b[0m: 'tuple' object does not support item assignment"
          ]
        }
      ],
      "source": [
        "튜플[2]=10 #값을 바꿀 수 없어요"
      ]
    },
    {
      "cell_type": "code",
      "execution_count": null,
      "metadata": {
        "colab": {
          "base_uri": "https://localhost:8080/"
        },
        "id": "rkhW38UM-643",
        "outputId": "67b86d73-7591-44c6-cdec-ed9ade61bfe8"
      },
      "outputs": [
        {
          "name": "stdout",
          "output_type": "stream",
          "text": [
            "[1, 2, 3]\n",
            "[2, 3]\n"
          ]
        }
      ],
      "source": [
        "샘플배열=[1,2,3]\n",
        "print(샘플배열)\n",
        "del 샘플배열[0]\n",
        "print(샘플배열)\n",
        " "
      ]
    },
    {
      "cell_type": "code",
      "execution_count": null,
      "metadata": {
        "colab": {
          "base_uri": "https://localhost:8080/",
          "height": 232
        },
        "id": "AmJjCI8_0SYq",
        "outputId": "7dea5c80-3cb7-4092-e67d-19e0cf55b3b3"
      },
      "outputs": [
        {
          "name": "stdout",
          "output_type": "stream",
          "text": [
            "1\n"
          ]
        },
        {
          "ename": "NameError",
          "evalue": "ignored",
          "output_type": "error",
          "traceback": [
            "\u001b[0;31m---------------------------------------------------------------------------\u001b[0m",
            "\u001b[0;31mNameError\u001b[0m                                 Traceback (most recent call last)",
            "\u001b[0;32m<ipython-input-67-25e59c7ab569>\u001b[0m in \u001b[0;36m<module>\u001b[0;34m()\u001b[0m\n\u001b[1;32m      2\u001b[0m \u001b[0mprint\u001b[0m\u001b[0;34m(\u001b[0m\u001b[0m변수\u001b[0m\u001b[0;34m)\u001b[0m\u001b[0;34m\u001b[0m\u001b[0;34m\u001b[0m\u001b[0m\n\u001b[1;32m      3\u001b[0m \u001b[0;32mdel\u001b[0m \u001b[0m변수\u001b[0m\u001b[0;34m\u001b[0m\u001b[0;34m\u001b[0m\u001b[0m\n\u001b[0;32m----> 4\u001b[0;31m \u001b[0mprint\u001b[0m\u001b[0;34m(\u001b[0m\u001b[0m변수\u001b[0m\u001b[0;34m)\u001b[0m\u001b[0;34m\u001b[0m\u001b[0;34m\u001b[0m\u001b[0m\n\u001b[0m",
            "\u001b[0;31mNameError\u001b[0m: name '변수' is not defined"
          ]
        }
      ],
      "source": [
        "변수 =1\n",
        "print(변수)\n",
        "del 변수\n",
        "print(변수)"
      ]
    },
    {
      "cell_type": "code",
      "execution_count": null,
      "metadata": {
        "colab": {
          "base_uri": "https://localhost:8080/"
        },
        "id": "AMBrmZd20San",
        "outputId": "c226c023-b2fe-43ff-99ef-56bbdc50ddd9"
      },
      "outputs": [
        {
          "name": "stdout",
          "output_type": "stream",
          "text": [
            "(1, 2, 3, [1, 2, 3])\n",
            "(1, 2, 3, [10, 2, 3])\n",
            "1\n"
          ]
        }
      ],
      "source": [
        "튜플1=(1,2,3,[1,2,3])\n",
        "print(튜플1)\n",
        "튜플1[-1][0] = 10\n",
        "print(튜플1)\n",
        "print(튜플[0])"
      ]
    },
    {
      "cell_type": "code",
      "execution_count": null,
      "metadata": {
        "colab": {
          "base_uri": "https://localhost:8080/"
        },
        "id": "j9DCSEiWIwEC",
        "outputId": "647d3b3e-b167-49fe-b8d7-128fa5eeb05e"
      },
      "outputs": [
        {
          "name": "stdout",
          "output_type": "stream",
          "text": [
            "{'키': '값'}\n",
            "값\n"
          ]
        }
      ],
      "source": [
        "딕셔너리 = {\"키\":\"값\"}\n",
        "print(딕셔너리)\n",
        "print(딕셔너리[\"키\"])"
      ]
    },
    {
      "cell_type": "code",
      "execution_count": null,
      "metadata": {
        "colab": {
          "base_uri": "https://localhost:8080/"
        },
        "id": "Vxl6c-iQIwGB",
        "outputId": "16ee2b6d-786e-4b5f-d887-bd2c39a74416"
      },
      "outputs": [
        {
          "name": "stdout",
          "output_type": "stream",
          "text": [
            "<class 'dict'>\n"
          ]
        }
      ],
      "source": [
        "print(type(딕셔너리))"
      ]
    },
    {
      "cell_type": "code",
      "execution_count": null,
      "metadata": {
        "colab": {
          "base_uri": "https://localhost:8080/"
        },
        "id": "q3K4BCjoIwIK",
        "outputId": "bdf161b6-2e13-416a-b36f-c3c5df6cb886"
      },
      "outputs": [
        {
          "name": "stdout",
          "output_type": "stream",
          "text": [
            "김보현\n",
            "01056960763\n",
            "남\n",
            "{'이름': '김보현', '번호': '01056960763', '성별': '남', '주소': '제주시'}\n"
          ]
        }
      ],
      "source": [
        "회원정보 = {\n",
        "    \"이름\" : '김보현',\n",
        "    '번호' : '01056960763',\n",
        "     '성별' : '남'\n",
        "\n",
        "}\n",
        "print(회원정보['이름'])\n",
        "print(회원정보['번호'])\n",
        "print(회원정보['성별'])\n",
        "\n",
        "회원정보 ['주소'] = '제주시'\n",
        "print(회원정보)"
      ]
    },
    {
      "cell_type": "code",
      "execution_count": null,
      "metadata": {
        "colab": {
          "base_uri": "https://localhost:8080/"
        },
        "id": "zHobrrUmIwKn",
        "outputId": "28a388eb-8216-42bd-c68e-c8cb37fb3ec9"
      },
      "outputs": [
        {
          "name": "stdout",
          "output_type": "stream",
          "text": [
            "{'이름': '김보보', '번호': '000000000', '주소': '제주시'}\n"
          ]
        }
      ],
      "source": [
        "회원정보2={\n",
        "    \n",
        "  '이름' : '김보현',\n",
        "  '번호' : '000000000',\n",
        "  '주소' : '제주시',\n",
        "  '이름' : '김보보'\n",
        "}\n",
        "print(회원정보2)"
      ]
    },
    {
      "cell_type": "code",
      "execution_count": null,
      "metadata": {
        "colab": {
          "base_uri": "https://localhost:8080/"
        },
        "id": "Fh1i4veTIwMd",
        "outputId": "a94cc120-7b95-4c93-90e2-0cda51241e01"
      },
      "outputs": [
        {
          "name": "stdout",
          "output_type": "stream",
          "text": [
            "[1, 2, 3] [1, 2, 3]\n",
            "[1, 2, 3] [1, 2, 3]\n"
          ]
        }
      ],
      "source": [
        "샘플딕셔너리 = {\n",
        "    \"배열1\":[1,2,3]\n",
        "}\n",
        "배열get = 샘플딕셔너리.get(\"배열1\")\n",
        "배열키로가져오기=샘플딕셔너리[\"배열1\"]\n",
        "print(배열get, 배열키로가져오기)\n",
        "샘플딕셔너리[\"배열1[0]\"] = 4\n",
        "print(배열get, 배열키로가져오기)"
      ]
    },
    {
      "cell_type": "code",
      "execution_count": null,
      "metadata": {
        "colab": {
          "base_uri": "https://localhost:8080/"
        },
        "id": "5dmo1JTBIwOr",
        "outputId": "ca751899-10f5-4c2c-970d-45b6db1e363f"
      },
      "outputs": [
        {
          "data": {
            "text/plain": [
              "False"
            ]
          },
          "execution_count": 83,
          "metadata": {},
          "output_type": "execute_result"
        }
      ],
      "source": [
        "'직업' in 회원정보"
      ]
    },
    {
      "cell_type": "code",
      "execution_count": null,
      "metadata": {
        "colab": {
          "base_uri": "https://localhost:8080/"
        },
        "id": "bK34NuegIwRA",
        "outputId": "5c2eafe9-4010-4d82-a303-e9ea20e62f39"
      },
      "outputs": [
        {
          "name": "stdout",
          "output_type": "stream",
          "text": [
            "True\n"
          ]
        }
      ],
      "source": [
        "print(True)"
      ]
    },
    {
      "cell_type": "code",
      "execution_count": null,
      "metadata": {
        "colab": {
          "base_uri": "https://localhost:8080/"
        },
        "id": "Uej_ySNV0Scc",
        "outputId": "1b0a3e9e-9dc8-4f56-e269-77d4d125d468"
      },
      "outputs": [
        {
          "name": "stdout",
          "output_type": "stream",
          "text": [
            "<class 'bool'>\n"
          ]
        }
      ],
      "source": [
        "print(type(True))"
      ]
    },
    {
      "cell_type": "code",
      "execution_count": null,
      "metadata": {
        "colab": {
          "base_uri": "https://localhost:8080/"
        },
        "id": "g96rfmpAUvOf",
        "outputId": "bf9a1c38-fb75-4360-e945-cb9dad1dce78"
      },
      "outputs": [
        {
          "name": "stdout",
          "output_type": "stream",
          "text": [
            "True\n"
          ]
        }
      ],
      "source": [
        "숫자1= 10\n",
        "숫자2= 20\n",
        "결과1=숫자1<숫자2\n",
        "print(결과1)"
      ]
    },
    {
      "cell_type": "code",
      "execution_count": null,
      "metadata": {
        "id": "oMtP8Z93UvQx"
      },
      "outputs": [],
      "source": [
        "if False:\n",
        "  print(\"거짓입니다\")\n",
        "  "
      ]
    },
    {
      "cell_type": "code",
      "execution_count": null,
      "metadata": {
        "colab": {
          "base_uri": "https://localhost:8080/"
        },
        "id": "iZjEHRinUvSs",
        "outputId": "1b337f28-f1a7-4b97-96a8-e34d099d4f49"
      },
      "outputs": [
        {
          "name": "stdout",
          "output_type": "stream",
          "text": [
            "참입니다\n"
          ]
        }
      ],
      "source": [
        "if True:\n",
        "  print(\"참입니다\")"
      ]
    },
    {
      "cell_type": "code",
      "execution_count": null,
      "metadata": {
        "colab": {
          "base_uri": "https://localhost:8080/"
        },
        "id": "Kg-hyooUUvVc",
        "outputId": "b2db6dd1-8658-4b68-b583-9ec0721cd780"
      },
      "outputs": [
        {
          "name": "stdout",
          "output_type": "stream",
          "text": [
            "거짓입니다\n"
          ]
        }
      ],
      "source": [
        "if not False:\n",
        "  print(\"거짓입니다\")"
      ]
    },
    {
      "cell_type": "code",
      "execution_count": null,
      "metadata": {
        "id": "xovk-R2zUvXp"
      },
      "outputs": [],
      "source": [
        "조건= False\n",
        "if not 조건:\n",
        "    print(\"거짓입니다\")\n"
      ]
    },
    {
      "cell_type": "code",
      "execution_count": null,
      "metadata": {
        "colab": {
          "base_uri": "https://localhost:8080/"
        },
        "id": "1BkGjCjnUvZ3",
        "outputId": "3b3b1f6f-b4b5-400c-ebcc-9e466b3f60a7"
      },
      "outputs": [
        {
          "name": "stdout",
          "output_type": "stream",
          "text": [
            "숫자2가 11보다 작습니다\n"
          ]
        }
      ],
      "source": [
        "숫자1 = 1\n",
        "숫자2 = 10\n",
        "숫자3 = 15\n",
        "if 숫자1>5:\n",
        "  print(\"숫자1이5보다 큽니다\")\n",
        "elif 숫자2<11:\n",
        "  print(\"숫자2가 11보다 작습니다\")\n",
        "else:\n",
        "  print(숫자3, \"마지막 숫자입니다.\")"
      ]
    },
    {
      "cell_type": "code",
      "execution_count": null,
      "metadata": {
        "colab": {
          "base_uri": "https://localhost:8080/"
        },
        "id": "Yb_OGn7LYj7U",
        "outputId": "45a497b6-af29-417e-f98e-91d07b141666"
      },
      "outputs": [
        {
          "name": "stdout",
          "output_type": "stream",
          "text": [
            "False\n"
          ]
        }
      ],
      "source": [
        "print(False and True)"
      ]
    },
    {
      "cell_type": "code",
      "execution_count": null,
      "metadata": {
        "colab": {
          "base_uri": "https://localhost:8080/"
        },
        "id": "5R_GXA7DYj9q",
        "outputId": "e45f61cc-466d-467f-f5f1-913843ac3ad4"
      },
      "outputs": [
        {
          "name": "stdout",
          "output_type": "stream",
          "text": [
            "True\n"
          ]
        }
      ],
      "source": [
        "print(True or True)"
      ]
    },
    {
      "cell_type": "code",
      "execution_count": null,
      "metadata": {
        "colab": {
          "base_uri": "https://localhost:8080/"
        },
        "id": "-9_kYuGtYkAg",
        "outputId": "cf5cb076-8774-4b19-81c9-de21ea6243c4"
      },
      "outputs": [
        {
          "name": "stdout",
          "output_type": "stream",
          "text": [
            "10\n"
          ]
        }
      ],
      "source": [
        "입력받은값=input()"
      ]
    },
    {
      "cell_type": "code",
      "execution_count": null,
      "metadata": {
        "colab": {
          "base_uri": "https://localhost:8080/"
        },
        "id": "_sBngTduYkCu",
        "outputId": "613bdfca-295d-46ef-b5e5-3e4ec4d1ecaa"
      },
      "outputs": [
        {
          "name": "stdout",
          "output_type": "stream",
          "text": [
            "10\n"
          ]
        }
      ],
      "source": [
        "print(입력받은값)"
      ]
    },
    {
      "cell_type": "code",
      "execution_count": null,
      "metadata": {
        "colab": {
          "base_uri": "https://localhost:8080/",
          "height": 176
        },
        "id": "ZdzWMf5yYkE5",
        "outputId": "c1777630-0645-4cd6-ef91-30395224eb2d"
      },
      "outputs": [
        {
          "ename": "TypeError",
          "evalue": "ignored",
          "output_type": "error",
          "traceback": [
            "\u001b[0;31m---------------------------------------------------------------------------\u001b[0m",
            "\u001b[0;31mTypeError\u001b[0m                                 Traceback (most recent call last)",
            "\u001b[0;32m<ipython-input-99-0bd87519ab81>\u001b[0m in \u001b[0;36m<module>\u001b[0;34m()\u001b[0m\n\u001b[0;32m----> 1\u001b[0;31m \u001b[0mprint\u001b[0m\u001b[0;34m(\u001b[0m\u001b[0m입력받은값\u001b[0m \u001b[0;34m>\u001b[0m \u001b[0;36m5\u001b[0m\u001b[0;34m)\u001b[0m\u001b[0;34m\u001b[0m\u001b[0;34m\u001b[0m\u001b[0m\n\u001b[0m",
            "\u001b[0;31mTypeError\u001b[0m: '>' not supported between instances of 'str' and 'int'"
          ]
        }
      ],
      "source": [
        "print(입력받은값 > 5)"
      ]
    },
    {
      "cell_type": "code",
      "execution_count": null,
      "metadata": {
        "colab": {
          "base_uri": "https://localhost:8080/"
        },
        "id": "iFW8x3DVYkHG",
        "outputId": "7231d170-8436-4e41-ec70-d69a869f92b3"
      },
      "outputs": [
        {
          "name": "stdout",
          "output_type": "stream",
          "text": [
            "<class 'str'>\n"
          ]
        }
      ],
      "source": [
        "print(type(입력받은값))"
      ]
    },
    {
      "cell_type": "code",
      "execution_count": null,
      "metadata": {
        "colab": {
          "base_uri": "https://localhost:8080/"
        },
        "id": "hYQM52btYkJy",
        "outputId": "7a15011e-3f2e-43fd-ec41-b91d49b50666"
      },
      "outputs": [
        {
          "name": "stdout",
          "output_type": "stream",
          "text": [
            "20\n",
            "10\n",
            "첫번쨰 숫자가 더 큽니다\n"
          ]
        }
      ],
      "source": [
        "숫자1= input()\n",
        "숫자2= input()\n",
        "if(int(숫자1)>int(숫자2)):\n",
        "  print(\"첫번쨰 숫자가 더 큽니다\")\n",
        "elif(int(숫자1)==int(숫자2)):\n",
        "  print(\"숫자가 같습니다\")\n",
        "else:\n",
        "  print(\"두번쨰 숫자가 큽니다.\")"
      ]
    },
    {
      "cell_type": "markdown",
      "metadata": {
        "id": "RtUVGmIMfh-t"
      },
      "source": [
        "카운트 = 0\n",
        "while 카운트<10:\n",
        "    pirnt(카운트)\n",
        "    카운트++"
      ]
    },
    {
      "cell_type": "code",
      "execution_count": null,
      "metadata": {
        "colab": {
          "base_uri": "https://localhost:8080/"
        },
        "id": "tw2W7JE8fBtD",
        "outputId": "cbf61871-0551-45ac-f63c-8a9eee57b853"
      },
      "outputs": [
        {
          "name": "stdout",
          "output_type": "stream",
          "text": [
            "0\n",
            "1\n",
            "2\n",
            "3\n",
            "4\n",
            "5\n",
            "6\n",
            "7\n",
            "8\n",
            "9\n"
          ]
        }
      ],
      "source": [
        "카운트 = 0\n",
        "while 카운트<10:\n",
        "    print(카운트)\n",
        "    카운트+=1"
      ]
    },
    {
      "cell_type": "code",
      "execution_count": null,
      "metadata": {
        "colab": {
          "base_uri": "https://localhost:8080/"
        },
        "id": "7KkK8okJfBvJ",
        "outputId": "9864581f-2f77-4205-e712-4e9d89f8a1e8"
      },
      "outputs": [
        {
          "name": "stdout",
          "output_type": "stream",
          "text": [
            "1\n",
            "3\n",
            "5\n"
          ]
        }
      ],
      "source": [
        "카운트 = 0\n",
        "while 카운트 < 6:\n",
        "  if(카운트%2==1):\n",
        "      print(카운트)\n",
        "  카운트+=1"
      ]
    },
    {
      "cell_type": "code",
      "execution_count": null,
      "metadata": {
        "colab": {
          "base_uri": "https://localhost:8080/"
        },
        "id": "3raSq8idfBxX",
        "outputId": "14924833-7f3a-4c89-a063-4a30cfc92787"
      },
      "outputs": [
        {
          "name": "stdout",
          "output_type": "stream",
          "text": [
            "10\n",
            "1\n",
            "2\n",
            "3\n",
            "4\n"
          ]
        }
      ],
      "source": [
        "for 숫자 in [10,1,2,3,4]:\n",
        "  print(숫자)"
      ]
    },
    {
      "cell_type": "code",
      "execution_count": null,
      "metadata": {
        "colab": {
          "base_uri": "https://localhost:8080/"
        },
        "id": "tqyr9gB2fBzr",
        "outputId": "b751daf5-c667-4c24-bdc1-edc0abc72ac0"
      },
      "outputs": [
        {
          "name": "stdout",
          "output_type": "stream",
          "text": [
            "range(0, 10)\n"
          ]
        }
      ],
      "source": [
        "레인지 = range(10)# 순서가 있다"
      ]
    },
    {
      "cell_type": "code",
      "execution_count": null,
      "metadata": {
        "colab": {
          "base_uri": "https://localhost:8080/"
        },
        "id": "fJpNiH3YfB2R",
        "outputId": "286b2a71-7f04-4a61-9dcb-ae6a25204df5"
      },
      "outputs": [
        {
          "name": "stdout",
          "output_type": "stream",
          "text": [
            "1 x 1 = 1\n",
            "1 x 2 = 2\n",
            "1 x 3 = 3\n",
            "1 x 4 = 4\n",
            "1 x 5 = 5\n",
            "1 x 6 = 6\n",
            "1 x 7 = 7\n",
            "1 x 8 = 8\n",
            "1 x 9 = 9\n",
            "2 x 1 = 2\n",
            "2 x 2 = 4\n",
            "2 x 3 = 6\n",
            "2 x 4 = 8\n",
            "2 x 5 = 10\n",
            "2 x 6 = 12\n",
            "2 x 7 = 14\n",
            "2 x 8 = 16\n",
            "2 x 9 = 18\n",
            "3 x 1 = 3\n",
            "3 x 2 = 6\n",
            "3 x 3 = 9\n",
            "3 x 4 = 12\n",
            "3 x 5 = 15\n",
            "3 x 6 = 18\n",
            "3 x 7 = 21\n",
            "3 x 8 = 24\n",
            "3 x 9 = 27\n",
            "4 x 1 = 4\n",
            "4 x 2 = 8\n",
            "4 x 3 = 12\n",
            "4 x 4 = 16\n",
            "4 x 5 = 20\n",
            "4 x 6 = 24\n",
            "4 x 7 = 28\n",
            "4 x 8 = 32\n",
            "4 x 9 = 36\n",
            "5 x 1 = 5\n",
            "5 x 2 = 10\n",
            "5 x 3 = 15\n",
            "5 x 4 = 20\n",
            "5 x 5 = 25\n",
            "5 x 6 = 30\n",
            "5 x 7 = 35\n",
            "5 x 8 = 40\n",
            "5 x 9 = 45\n",
            "6 x 1 = 6\n",
            "6 x 2 = 12\n",
            "6 x 3 = 18\n",
            "6 x 4 = 24\n",
            "6 x 5 = 30\n",
            "6 x 6 = 36\n",
            "6 x 7 = 42\n",
            "6 x 8 = 48\n",
            "6 x 9 = 54\n",
            "7 x 1 = 7\n",
            "7 x 2 = 14\n",
            "7 x 3 = 21\n",
            "7 x 4 = 28\n",
            "7 x 5 = 35\n",
            "7 x 6 = 42\n",
            "7 x 7 = 49\n",
            "7 x 8 = 56\n",
            "7 x 9 = 63\n",
            "8 x 1 = 8\n",
            "8 x 2 = 16\n",
            "8 x 3 = 24\n",
            "8 x 4 = 32\n",
            "8 x 5 = 40\n",
            "8 x 6 = 48\n",
            "8 x 7 = 56\n",
            "8 x 8 = 64\n",
            "8 x 9 = 72\n",
            "9 x 1 = 9\n",
            "9 x 2 = 18\n",
            "9 x 3 = 27\n",
            "9 x 4 = 36\n",
            "9 x 5 = 45\n",
            "9 x 6 = 54\n",
            "9 x 7 = 63\n",
            "9 x 8 = 72\n",
            "9 x 9 = 81\n"
          ]
        }
      ],
      "source": [
        "for 숫자 in range(10):\n",
        "  for 숫자2 in range(10):\n",
        "    if(숫자 !=0 and 숫자2!=0):\n",
        "      print(숫자, \"x\", 숫자2, \"=\", 숫자*숫자2)"
      ]
    },
    {
      "cell_type": "code",
      "execution_count": null,
      "metadata": {
        "colab": {
          "background_save": true,
          "base_uri": "https://localhost:8080/"
        },
        "id": "Ds_zEjA6fB4G",
        "outputId": "ae5ba29c-62ea-459e-c0de-ee169dfd7723"
      },
      "outputs": [
        {
          "name": "stdout",
          "output_type": "stream",
          "text": [
            "3 X 2 = 6\n",
            "3 X 3 = 9\n",
            "3 X 4 = 12\n",
            "3 X 5 = 15\n",
            "3 X 6 = 18\n",
            "3 X 7 = 21\n",
            "3 X 8 = 24\n",
            "3 X 9 = 27\n",
            "2 X 2 = 4\n",
            "2 X 3 = 6\n",
            "2 X 4 = 8\n",
            "2 X 5 = 10\n",
            "2 X 6 = 12\n",
            "2 X 7 = 14\n",
            "2 X 8 = 16\n",
            "2 X 9 = 18\n"
          ]
        }
      ],
      "source": [
        "\n",
        "while(True):\n",
        "    숫자=int(input())\n",
        "    if(숫자==0):\n",
        "        break;\n",
        "    if(숫자>1 and 숫자<10):\n",
        "      for 숫자3 in range(2,10):\n",
        "        print(숫자, \"X\", 숫자3, \"=\", 숫자*숫자3)\n",
        "\n",
        "\n",
        "\n"
      ]
    },
    {
      "cell_type": "code",
      "execution_count": null,
      "metadata": {
        "id": "_a1BU7rPfB6O"
      },
      "outputs": [],
      "source": [
        ""
      ]
    },
    {
      "cell_type": "code",
      "execution_count": null,
      "metadata": {
        "id": "rwQ8oPgsfB8N"
      },
      "outputs": [],
      "source": [
        ""
      ]
    },
    {
      "cell_type": "code",
      "execution_count": null,
      "metadata": {
        "id": "AD06rKDXfB-l"
      },
      "outputs": [],
      "source": [
        ""
      ]
    },
    {
      "cell_type": "code",
      "execution_count": null,
      "metadata": {
        "id": "rLzbjMZRYkL1"
      },
      "outputs": [],
      "source": [
        ""
      ]
    },
    {
      "cell_type": "code",
      "execution_count": null,
      "metadata": {
        "id": "fPdf8QmHXush"
      },
      "outputs": [],
      "source": [
        ""
      ]
    },
    {
      "cell_type": "code",
      "execution_count": null,
      "metadata": {
        "id": "r2nuC9f-Uvbu"
      },
      "outputs": [],
      "source": [
        ""
      ]
    }
  ],
  "metadata": {
    "colab": {
      "name": "20220725코딩",
      "provenance": []
    },
    "kernelspec": {
      "display_name": "Python 3",
      "name": "python3"
    },
    "language_info": {
      "name": "python"
    }
  },
  "nbformat": 4,
  "nbformat_minor": 0
}